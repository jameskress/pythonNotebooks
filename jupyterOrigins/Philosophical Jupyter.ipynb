{
 "cells": [
  {
   "cell_type": "markdown",
   "metadata": {},
   "source": [
    "There is a great deal of discussion on creating custom javascript for notebooks and modifying the web interface, but I chose instead to look at the initial idea behind notebooks, and to present the designers vision for the next several years of releases."
   ]
  },
  {
   "cell_type": "markdown",
   "metadata": {},
   "source": [
    "# Early History of IPython Notebook"
   ]
  },
  {
   "cell_type": "markdown",
   "metadata": {},
   "source": [
    "> We deliberately wrote the IPython notebook to be a lightweight, single-user program that feels like any other local application.\n",
    "\n",
    "> ...the IPython model where we always keep the user very close to the filesystem and OS.  For us, it's really important that you can access local scripts, use %run, see arbitrary files conveniently, etc.\n",
    "\n",
    "This is one of the earliest statements on the design philospohy of the IPythoin Notebook that I could find. In addition to being very telling, it does have implications for multi user interactivity. This to me shows that this notebook system was originally designed to mainly be a single user at a time interface, with collaboration being over repositories etc, without designing in the idea of collaboration. Not to say that cannot add this in, but it was not a driving development factor. "
   ]
  },
  {
   "cell_type": "markdown",
   "metadata": {},
   "source": [
    "Other deliberate early design ideas:\n",
    "\n",
    "> We deliberately chose a structured JSON format for our documents. It's clear enough for human reading while allowing easy and powerful machine manipulation without having to write our own parsing.  So writing utilities like a reStructuredText or LaTeX converter is very easy.\n",
    "\n",
    "> Our move to zmq allowed us to ship the notebook working both on Python2 and Python3 out of the box. \n",
    "\n",
    "> We have a long list of plans for the document format: multi-sheet capabilities, LaTeX-style preamble, per-cell metadata, structural cells to allow outline-level navigation and manipulation such as in LyX, improved literate programming and validation/reproducibility support, ..."
   ]
  },
  {
   "cell_type": "markdown",
   "metadata": {},
   "source": [
    "# Jupyter Survey Results"
   ]
  },
  {
   "cell_type": "markdown",
   "metadata": {},
   "source": [
    "Recently Jupyter concluded a user survey, collecting data bout who uses Jupyter and why, what they like, and what they wish they had. The following is a short synopsis of some of the stuff, with the full data being here: https://github.com/jupyter/design/blob/master/surveys/2015-notebook-ux/analysis/report_dashboard.ipynb"
   ]
  },
  {
   "cell_type": "markdown",
   "metadata": {},
   "source": [
    "Executive Findings:\n",
    "> Unsurprisingly, respondents state that they like the ability to quickly analyze, visualize, explore, and describe data in rich notebook documents that they can share. As such, the interactive computing paradigm should remain central to the user experience and continue to improve over time.\n",
    "\n",
    "> People who use Jupyter frequently (daily/weekly), who have been using it for more than a year, and who have been in their job role for 2+ years are most heavily represented in the survey data. The majority of respondants self-identify as data scientists, students, scientists, and researchers.\n",
    "\n",
    "> Respondents find that the Jupyter Notebook lacks features they require to complete their data analytics workflow. To address these gaps, the respondents request a wide variety of features and integrations. The most common requests are the following:\n",
    " - Version control (via git in particular)\n",
    " - Robust text and code editing (like in Emacs, Vim, Sublime, PyCharm)\n",
    " - Advanced code development tools (debugging, profiling, variable watching, code modularization)\n",
    " - Simpler export and deployment options (one-click transformations to slides, scripts, reports)"
   ]
  },
  {
   "cell_type": "markdown",
   "metadata": {},
   "source": [
    "Summary of question asking users how often they have used Jupyter and at what frequency. "
   ]
  },
  {
   "cell_type": "markdown",
   "metadata": {},
   "source": [
    "<img  src=\"jupyterUse.png\"/>"
   ]
  },
  {
   "cell_type": "markdown",
   "metadata": {},
   "source": [
    "Summary of responses when asked what their primary role was. "
   ]
  },
  {
   "cell_type": "markdown",
   "metadata": {},
   "source": [
    "<img  src=\"userRole.png\"/>"
   ]
  },
  {
   "cell_type": "markdown",
   "metadata": {},
   "source": [
    "Summary of the top requests for better integrations in Jupyter. "
   ]
  },
  {
   "cell_type": "markdown",
   "metadata": {},
   "source": [
    "<img  src=\"integrations.png\"/>"
   ]
  },
  {
   "cell_type": "markdown",
   "metadata": {},
   "source": [
    "# Upcoming Jupyter Features"
   ]
  },
  {
   "cell_type": "markdown",
   "metadata": {},
   "source": [
    "## Next Major Release\n",
    "\n",
    "Prototype of JupyterLab: \n",
    "- Initially, a new page in the existing notebook web-app that allows multiple plugins in the same browser tab. \n",
    "- Flexible, customizable tabbed and paneled layout system. \n",
    "\n",
    "Plan for Phased JupyterLab releases: \n",
    "\n",
    "Phase 1: \n",
    "- A series of major releases starting with 5.0 that will have the existing notebook pages as the main UI with a JupyterLab button that takes people to the new JupyterLab page \n",
    "- These releases may have new features in the existing notebook pages, some API changes, focus on transitioning to JupyerLab.  \n",
    "- During this phase, we will continue to work on porting nbextensions to JupyterLab and building the bridge layers. \n",
    "\n",
    "Criteria for transition to phase 2: \n",
    "- Jupyter Lab has all the primary functionality of the classic notebook interface. \n",
    "- Jupyter Lab offers some interesting features beyond the classic interface. \n",
    "- At least some important, popular extensions are ported / bridged to Jupyter Lab. \n",
    "- Documentation and examples exist for creating Jupyter Lab plug-ins. \n",
    "\n",
    "Phase 2: \n",
    "- A series of major releases that will have JupyterLab as the main UI and the old notebook is available as a button \n",
    "- At this point, we start to discourage the development of new features in the existing notebook. \n",
    "\n",
    "Criteria for transition to phase 3: \n",
    "- No major development or use of the classic UI. \n",
    "\n",
    "Phase 3: \n",
    "- Starting with the z.0 major release. will remove the existing notebook pages. \n",
    "- Maybe offer the existing notebook as a server extension"
   ]
  },
  {
   "cell_type": "markdown",
   "metadata": {
    "ExecuteTime": {
     "end_time": "2016-10-24T08:49:17.605169",
     "start_time": "2016-10-24T08:49:17.591911"
    }
   },
   "source": [
    "## Next Major release after all the previous major releases\n",
    "New plugins for JupyterLab: \n",
    " - Standalone output area. \n",
    " - Ability to hook kernels up to text editors and output areas. \n",
    " - Themes."
   ]
  },
  {
   "cell_type": "markdown",
   "metadata": {},
   "source": [
    "## Future \n",
    "New plugins for JupyterLab: \n",
    "- Notebook. \n",
    "- Variable inspector. \n",
    "- UI for managing plugins. \n",
    "\n",
    "If, and only if, JupyterLab becomes a full replacement, deprecate existing pages in the notebook web-application. \n",
    "\n",
    "Real-time collaboration on the notebook, text editor, and other plugins. \n",
    "\n",
    "Perform and publish accessibility audit by running an automated tool. \n",
    " \n",
    "Address the 2015 UX survey findings \n",
    "- Version control (via git in particular) \n",
    "- Robust text and code editing (like in Emacs, Vim, Sublime, PyCharm) \n",
    "- Advanced code development tools (debugging, profiling, variable watching, code modularization) \n",
    "- Simpler export and deployment options (one-click transformations to slides, scripts, reports) \n",
    "- Improved installation guides, usage tutorials, and within-tool help "
   ]
  },
  {
   "cell_type": "code",
   "execution_count": null,
   "metadata": {
    "collapsed": true
   },
   "outputs": [],
   "source": []
  }
 ],
 "metadata": {
  "kernelspec": {
   "display_name": "Python 3",
   "language": "python",
   "name": "python3"
  },
  "language_info": {
   "codemirror_mode": {
    "name": "ipython",
    "version": 3
   },
   "file_extension": ".py",
   "mimetype": "text/x-python",
   "name": "python",
   "nbconvert_exporter": "python",
   "pygments_lexer": "ipython3",
   "version": "3.5.2"
  },
  "latex_envs": {
   "bibliofile": "biblio.bib",
   "cite_by": "apalike",
   "current_citInitial": 1,
   "eqLabelWithNumbers": true,
   "eqNumInitial": 0
  }
 },
 "nbformat": 4,
 "nbformat_minor": 1
}
