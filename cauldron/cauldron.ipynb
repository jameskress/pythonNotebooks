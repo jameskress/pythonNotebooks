{
 "cells": [
  {
   "cell_type": "markdown",
   "metadata": {},
   "source": [
    "# Cauldron First Look"
   ]
  },
  {
   "cell_type": "markdown",
   "metadata": {},
   "source": [
    "## Installing Cauldron:"
   ]
  },
  {
   "cell_type": "markdown",
   "metadata": {},
   "source": [
    "This part was easy, simply installed it using the pip command. There are other methods available if you want the latest and greatest or to be abe to do some development of the Cauldron code, but this was fine for me. \n",
    "\n",
    "\n",
    "- pip install cauldron-notebook\n",
    "- cauldron"
   ]
  },
  {
   "cell_type": "markdown",
   "metadata": {},
   "source": [
    "## Using Cauldron and First Perspectives "
   ]
  },
  {
   "cell_type": "markdown",
   "metadata": {},
   "source": [
    "The look of Cauldron is a stark departure from the traditional notebook view that we have been getting used to. The main interface for Cauldron is the command line for developing the ntoebooks themselves. This does however have the added benefit that we are not toed down to the browser as our interface for all of our editing and code development. This then is the most significant contribution of Cauldron to the notebook community, breaking away from the web interface, and removing the need to develop web versions of tools that already exist (versioning, code editing, etc). \n",
    "\n",
    "Furthermore, Cauldron has a feel that it was developed with computer scientists in mind. By this I mean that it is not clunky, and seems to allow many things that are common when developing code, such as including a file into the larger structure of a program. This type of activity is not possible with the traditional notebook model, as the code in the traditional notebook model is wrapped inside of the notebook environment itself, so it is generally unaccessible and easily goes stale.  So from my perspective as a developer, I would be more included to use Cauldron int he cases when I thought that the notebook model would be helpful for an actual workflow I was creating. \n"
   ]
  },
  {
   "cell_type": "markdown",
   "metadata": {},
   "source": [
    "## Running Cauldron Examples"
   ]
  },
  {
   "cell_type": "markdown",
   "metadata": {},
   "source": [
    "Cauldron includes a base of 6 example programs for experiencing some of its functionality. The example programs are found using the command:\n",
    "\n",
    "- open @examples[bokeh/hello_text/seaborn/hello_cauldron/pyplottime-gender]\n",
    "\n",
    "The example programs are run using the **run** command inside of Cauldron, and if there are files that need to be run and updated, they will be executed. The results of the notebook can be viewed (apparently) with the **show** command. For me however, this command only produces a blank webpage. Maybe this is because that is what it is supposed to do, maybe not. However, to actually see the results, I have had to go into the directory of the example and load the actual **display.html** file vs. the **project.html** fle which is launched when I run **show**. Maybe this is fixed in a newer version of Cauldron, but I think I already have the latest. "
   ]
  },
  {
   "cell_type": "markdown",
   "metadata": {},
   "source": [
    "## Other Exploration"
   ]
  },
  {
   "cell_type": "markdown",
   "metadata": {},
   "source": [
    "After working with the different examples and trying to look up any additional information realted to Cauldron, I played around with making one of my past notebooks in the Cauldron environment. This was a fairly smooth process, although it did end up being hard to get my plots to show up correctly. There are some good and some bad things about remoing the browser environemnt. It is nice to be able to scroll through your browser session and easily see ll of your code and outputs inline, where Cauldron makes that a bit harder. This just comes down to different use cases I suppose. If I were to use Cauldron it would be in the case where I was not looking for the interactive and quick exploration environment offered by the notebooks, but an envi"
   ]
  }
 ],
 "metadata": {
  "kernelspec": {
   "display_name": "Python 3",
   "language": "python",
   "name": "python3"
  },
  "language_info": {
   "codemirror_mode": {
    "name": "ipython",
    "version": 3
   },
   "file_extension": ".py",
   "mimetype": "text/x-python",
   "name": "python",
   "nbconvert_exporter": "python",
   "pygments_lexer": "ipython3",
   "version": "3.5.2"
  }
 },
 "nbformat": 4,
 "nbformat_minor": 1
}
