{
 "cells": [
  {
   "cell_type": "markdown",
   "metadata": {},
   "source": [
    "# VTK in Jupyter - (Embeded Images)"
   ]
  },
  {
   "cell_type": "markdown",
   "metadata": {},
   "source": [
    "Perform initial imports before preceeding. "
   ]
  },
  {
   "cell_type": "code",
   "execution_count": null,
   "metadata": {
    "collapsed": false
   },
   "outputs": [],
   "source": [
    "import vtk\n",
    "from IPython.display import Image\n",
    "from IPython.display import display"
   ]
  },
  {
   "cell_type": "markdown",
   "metadata": {},
   "source": [
    "A function to allow the output of a VTK pipeline to be displayed inline in the notebook (as an image)."
   ]
  },
  {
   "cell_type": "code",
   "execution_count": null,
   "metadata": {
    "collapsed": true
   },
   "outputs": [],
   "source": [
    "def vtk_show(renderer, width=400, height=300):\n",
    "    \"\"\"\n",
    "    Takes vtkRenderer instance and returns an IPython Image with the rendering.\n",
    "    \"\"\"\n",
    "    renderWindow = vtk.vtkRenderWindow()\n",
    "    renderWindow.SetOffScreenRendering(1)\n",
    "    renderWindow.AddRenderer(renderer)\n",
    "    renderWindow.SetSize(width, height)\n",
    "    renderWindow.Render()\n",
    "     \n",
    "    windowToImageFilter = vtk.vtkWindowToImageFilter()\n",
    "    windowToImageFilter.SetInput(renderWindow)\n",
    "    windowToImageFilter.Update()\n",
    "     \n",
    "    writer = vtk.vtkPNGWriter()\n",
    "    writer.SetWriteToMemory(1)\n",
    "    writer.SetInputConnection(windowToImageFilter.GetOutputPort())\n",
    "    writer.Write()\n",
    "    data = str(buffer(writer.GetResult()))\n",
    "    \n",
    "    return Image(data)"
   ]
  },
  {
   "cell_type": "markdown",
   "metadata": {},
   "source": [
    "A simple example that creates a sphere. The sphere size, color, and background can be changed to suit your needs. "
   ]
  },
  {
   "cell_type": "code",
   "execution_count": null,
   "metadata": {
    "collapsed": true
   },
   "outputs": [],
   "source": [
    "VtkSourceSphere = vtk.vtkSphereSource()\n",
    "VtkSourceSphere.SetCenter(0.0, 0.0, 0.0)\n",
    "VtkSourceSphere.SetRadius(10.0)\n",
    "VtkSourceSphere.SetPhiResolution(360)\n",
    "VtkSourceSphere.SetThetaResolution(360)\n",
    "\n",
    "VtkMapperSphere = vtk.vtkPolyDataMapper()\n",
    "VtkMapperSphere.SetInputConnection(VtkSourceSphere.GetOutputPort())\n",
    "\n",
    "VtkActorSphere = vtk.vtkActor()\n",
    "VtkActorSphere.SetMapper(VtkMapperSphere)\n",
    "VtkActorSphere.GetProperty().SetColor(1.0, 0.0, 0.0)\n",
    "\n",
    "VtkRenderer = vtk.vtkRenderer()\n",
    "VtkRenderer.SetBackground(1.0, 1.0, 1.0)\n",
    "VtkRenderer.AddActor(VtkActorSphere)"
   ]
  },
  {
   "cell_type": "markdown",
   "metadata": {},
   "source": [
    "Import widgets so that we can create an interactive environment, even though we are rendering and showing images from VTK."
   ]
  },
  {
   "cell_type": "code",
   "execution_count": null,
   "metadata": {
    "collapsed": false
   },
   "outputs": [],
   "source": [
    "from __future__ import print_function\n",
    "from ipywidgets import interact, interactive, fixed\n",
    "import ipywidgets as widgets"
   ]
  },
  {
   "cell_type": "markdown",
   "metadata": {},
   "source": [
    "Define a slider to allow the size of the sphere to be changed interactively. "
   ]
  },
  {
   "cell_type": "code",
   "execution_count": null,
   "metadata": {
    "collapsed": false
   },
   "outputs": [],
   "source": [
    "def f(x):\n",
    "    VtkSourceSphere.SetRadius(x)\n",
    "    return vtk_show(VtkRenderer)\n",
    "w = interactive(f, x=widgets.FloatSlider(min=0,max=30,step=.1,value=5.0));\n",
    "w"
   ]
  },
  {
   "cell_type": "markdown",
   "metadata": {},
   "source": [
    "Create a triple slider to allow the color of the sphere to be changed interactively. "
   ]
  },
  {
   "cell_type": "code",
   "execution_count": null,
   "metadata": {
    "collapsed": false
   },
   "outputs": [],
   "source": [
    "def g(r, g, b):\n",
    "    VtkActorSphere.GetProperty().SetColor(r, g, b)\n",
    "    return vtk_show(VtkRenderer)\n",
    "z = interactive(g, \n",
    "                r=widgets.FloatSlider(min=0,max=1,step=.1,value=1.0), \n",
    "                g=widgets.FloatSlider(min=0,max=1,step=.1,value=0.0), \n",
    "                b=widgets.FloatSlider(min=0,max=1,step=.1,value=0.0)\n",
    "               );\n",
    "z"
   ]
  },
  {
   "cell_type": "markdown",
   "metadata": {},
   "source": [
    "# VTK in Jupyter - (Interactive)"
   ]
  },
  {
   "cell_type": "markdown",
   "metadata": {},
   "source": [
    "The following example creates a streamline plot using VTK example data. This can either be done interactively or inline with the \"vtk_show()\" function"
   ]
  },
  {
   "cell_type": "code",
   "execution_count": null,
   "metadata": {
    "collapsed": false
   },
   "outputs": [],
   "source": [
    "import vtk\n",
    "pl3d = vtk.vtkMultiBlockPLOT3DReader()\n",
    " \n",
    "xyx_file = \"../VTKData/Data/combxyz.bin\"\n",
    "q_file = \"../VTKData/Data/combq.bin\"\n",
    "pl3d.SetXYZFileName(xyx_file)\n",
    "pl3d.SetQFileName(q_file)\n",
    "pl3d.SetScalarFunctionNumber(100)\n",
    "pl3d.SetVectorFunctionNumber(202)\n",
    "pl3d.Update()\n",
    " \n",
    "seeds = vtk.vtkPlaneSource()\n",
    "seeds.SetXResolution(4)\n",
    "seeds.SetYResolution(4)\n",
    "seeds.SetOrigin(2,-2,26)\n",
    "seeds.SetPoint1(2, 2,26)\n",
    "seeds.SetPoint2(2,-2,32)\n",
    " \n",
    "streamline = vtk.vtkStreamLine()\n",
    "streamline.SetInputData(pl3d.GetOutput().GetBlock(0))\n",
    "streamline.SetSourceConnection(seeds.GetOutputPort())\n",
    "streamline.SetMaximumPropagationTime(200)\n",
    "streamline.SetIntegrationStepLength(.2)\n",
    "streamline.SetStepLength(0.001)\n",
    "streamline.SetNumberOfThreads(1)\n",
    "streamline.SetIntegrationDirectionToForward()\n",
    "streamline.VorticityOn()\n",
    " \n",
    "streamline_mapper = vtk.vtkPolyDataMapper()\n",
    "streamline_mapper.SetInputConnection(streamline.GetOutputPort())\n",
    "streamline_actor = vtk.vtkActor()\n",
    "streamline_actor.SetMapper(streamline_mapper)\n",
    "streamline_actor.VisibilityOn()\n",
    " \n",
    "outline = vtk.vtkStructuredGridOutlineFilter()\n",
    "outline.SetInputData(pl3d.GetOutput().GetBlock(0))\n",
    "outline_mapper = vtk.vtkPolyDataMapper()\n",
    "outline_mapper.SetInputConnection(outline.GetOutputPort())\n",
    "outline_actor = vtk.vtkActor()\n",
    "outline_actor.SetMapper(outline_mapper)\n",
    "outline_actor.GetProperty().SetColor(1,1,1)\n",
    " \n",
    "renderer = vtk.vtkRenderer()\n",
    "render_window = vtk.vtkRenderWindow()\n",
    "render_window.AddRenderer(renderer)\n",
    "interactor = vtk.vtkRenderWindowInteractor()\n",
    "interactor.SetInteractorStyle(vtk.vtkInteractorStyleTrackballCamera())\n",
    "render_window.SetInteractor(interactor)\n",
    " \n",
    "renderer.AddActor(streamline_actor)\n",
    "renderer.AddActor(outline_actor)\n",
    " \n",
    "renderer.SetBackground(0.1, 0.2, 0.4)\n",
    "\n",
    "#--Interactive based rendering  \n",
    "'''\n",
    "interactor.Initialize()\n",
    "render_window.Render()\n",
    "interactor.Start()\n",
    "'''\n",
    "\n",
    "#--Image based rendering\n",
    "#'''\n",
    "def f(x, y, z):\n",
    "    seeds.SetPoint1(x, y, z)\n",
    "    return vtk_show(renderer, 1000, 1000)\n",
    "w = interactive(f, \n",
    "                x=widgets.FloatSlider(min=2,max=5,step=1,value=2),\n",
    "                y=widgets.FloatSlider(min=2,max=5,step=1,value=2),\n",
    "                z=widgets.FloatSlider(min=24,max=30,step=1,value=24)\n",
    "               );\n",
    "w\n",
    "#'''\n"
   ]
  },
  {
   "cell_type": "code",
   "execution_count": null,
   "metadata": {
    "collapsed": true
   },
   "outputs": [],
   "source": []
  }
 ],
 "metadata": {
  "kernelspec": {
   "display_name": "Python 2",
   "language": "python",
   "name": "python2"
  },
  "language_info": {
   "codemirror_mode": {
    "name": "ipython",
    "version": 2
   },
   "file_extension": ".py",
   "mimetype": "text/x-python",
   "name": "python",
   "nbconvert_exporter": "python",
   "pygments_lexer": "ipython2",
   "version": "2.7.12"
  },
  "widgets": {
   "state": {
    "4a1cb54ae0a44dd99a25ae4fd94acdbe": {
     "views": [
      {
       "cell_index": 10
      }
     ]
    },
    "bab76990bd7c42d5b944279521294855": {
     "views": [
      {
       "cell_index": 12
      }
     ]
    }
   },
   "version": "1.2.0"
  }
 },
 "nbformat": 4,
 "nbformat_minor": 1
}
