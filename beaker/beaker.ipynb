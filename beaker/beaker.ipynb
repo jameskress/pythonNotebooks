{
 "cells": [
  {
   "cell_type": "markdown",
   "metadata": {},
   "source": [
    "# Beaker Notebook"
   ]
  },
  {
   "cell_type": "markdown",
   "metadata": {},
   "source": [
    "## Beaker Installation "
   ]
  },
  {
   "cell_type": "markdown",
   "metadata": {},
   "source": [
    "Installation was very easy, and does not necessarily need to have both of the dependency scripts run. But I did, and you just need to be prepared to wait for a while. After they were done though, beaker fired right up with no difficulties.  \n",
    " \n",
    "Download beaker distribution \n",
    "* ./install-dependencies.sh \n",
    "* ./install-runtime-core-dependencies.sh \n",
    "* ./beaker.command\n"
   ]
  },
  {
   "cell_type": "markdown",
   "metadata": {},
   "source": [
    "## Beaker Overview"
   ]
  },
  {
   "cell_type": "markdown",
   "metadata": {},
   "source": [
    "Beaker is a notebook application which is similar to Jupyter. Beaker is language neutral from the ground-up, and not only can you mix languages, they can communicate. IPython does not have good support for multiple languages in the same notebook.  And the backend is still pretty python-specific.  The beaker UI has some nice new features: eg hierarchical sections that you can open and close, and one-click sharing. Beaker is highly configurable and extensible via plug-in APIs so you or your organization can add your own languages, media types, security and authentication protocols, data sources, formats, menus, etc, and not have to worry about merging when a new version comes out.  On the whole though, the beaker look and feel is a bit old feeling, so hopefully they will work on this while they are in beta. \n",
    "\n",
    "Beaker is taking it a step further than Jupyter, and focusing on the online space from the get-go. Beaker has Beaker Lab, which is an online notebook storage and editing service. This service would allow for collaboration with these notebooks with collaborators around the world interactively, which is a step way above the github model. Even better, they have an extensible backend server model, which means that they can implement other notebook or other types of servers as needed. Currently they have a Jupyter server, which means that Jupyter can be run, stored, and developed on their online resources. "
   ]
  },
  {
   "cell_type": "markdown",
   "metadata": {},
   "source": [
    "## Beaker Future Ideas"
   ]
  },
  {
   "cell_type": "markdown",
   "metadata": {},
   "source": [
    "Beaker is still in early stages, and have a few plans for the future:\n",
    "* Support Real-time data \n",
    "* Make this Embeddable Framework so it can be Use in Other Projects \n",
    "* Support for Big Data processing systems \n",
    "* Easy download and installation"
   ]
  },
  {
   "cell_type": "markdown",
   "metadata": {},
   "source": [
    "## Beaker Final Thoughts"
   ]
  },
  {
   "cell_type": "markdown",
   "metadata": {},
   "source": [
    "From using the online Beaker Lab, and the Beaker isntallation on Mint, it Beaker seems to suffer from the same issues that I have with Jupyter. Being all in the browser, and version control seems to be a problem in this environment as well. This type of notebook does not seem to be well suited for the HPC world, where we need to run distributed and massive sale, so easy scripting and job control is a must. So I stock this platform up to another good place to develop a progress report or an oerview of a project for collaborators. "
   ]
  },
  {
   "cell_type": "code",
   "execution_count": null,
   "metadata": {},
   "outputs": [],
   "source": []
  }
 ],
 "metadata": {
  "kernelspec": {
   "display_name": "Python 3",
   "language": "python",
   "name": "python3"
  },
  "language_info": {
   "codemirror_mode": {
    "name": "ipython",
    "version": 3
   },
   "file_extension": ".py",
   "mimetype": "text/x-python",
   "name": "python",
   "nbconvert_exporter": "python",
   "pygments_lexer": "ipython3",
   "version": "3.5.2"
  }
 },
 "nbformat": 4,
 "nbformat_minor": 1
}
