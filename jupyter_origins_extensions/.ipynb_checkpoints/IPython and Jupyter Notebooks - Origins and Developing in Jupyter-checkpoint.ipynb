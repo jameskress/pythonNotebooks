{
 "cells": [
  {
   "cell_type": "markdown",
   "metadata": {
    "run_control": {
     "marked": false
    }
   },
   "source": [
    "# What is IPython"
   ]
  },
  {
   "cell_type": "markdown",
   "metadata": {
    "ExecuteTime": {
     "end_time": "2016-10-15T14:02:47.382612",
     "start_time": "2016-10-15T14:02:47.377527"
    },
    "cell_style": "center",
    "collapsed": false,
    "run_control": {
     "marked": false
    }
   },
   "source": [
    "IPython, or Interactive Python, is the product of developer Fernando Pérez. IPython provides a rich toolkit to help you make the most out of using Python interactively. \n",
    "\n",
    "Its main components are:\n",
    "\\begin{itemize}\n",
    "\\item A powerful interactive Python shell.\n",
    "\\item A Jupyter kernel to work with Python code in Jupyter notebooks and other interactive frontends. \n",
    "\\item Comprehensive object introspection. \n",
    "\\item Input history, persistent across sessions. \n",
    "\\item Caching of output results during a session with automatically generated references. \n",
    "\\item Extensible tab completion, with support by default for completion of python variables and keywords, filenames and function keywords. \n",
    "\\item Extensible system of ‘magic’ commands for controlling the environment and performing many tasks related either to IPython or the operating system. \n",
    "\\item Session logging and reloading. \n",
    "\\item Access to the system shell with user-extensible alias system. \n",
    "\\item Easily embeddable in other Python programs and GUIs. \n",
    "\\item Integrated access to the pdb debugger and the Python profiler. \n",
    "\\item Syntax highlighting as you type.\n",
    "\\end{itemize}"
   ]
  },
  {
   "cell_type": "markdown",
   "metadata": {
    "collapsed": true,
    "run_control": {
     "marked": false
    }
   },
   "source": [
    "# What is Jupyter "
   ]
  },
  {
   "cell_type": "markdown",
   "metadata": {
    "collapsed": true
   },
   "source": [
    "The Jupyter Notebook App is a server-client application that allows editing and running notebook documents via a web browser. The Jupyter Notebook App can be executed on a local desktop requiring no internet access or installed on a remote server and accessed through the internet. \n",
    "\n",
    "The Jupyter Notebook is an <span class=\"burk\">interactive computing environment</span> that enables users to author notebook documents that include: - Live code - Interactive widgets - Plots - Narrative text - Equations - Images - Video. These documents provide a complete and self-contained record of a computation that can be converted to various formats and shared with others.\n",
    "\n"
   ]
  },
  {
   "cell_type": "markdown",
   "metadata": {},
   "source": [
    "### Jupyter Notebook Composition"
   ]
  },
  {
   "cell_type": "markdown",
   "metadata": {
    "collapsed": true
   },
   "source": [
    "The Jupyter Notebook combines three components:\n",
    "\\begin{itemize}\n",
    "\\item The notebook web application: An interactive web application for writing and running code interactively and authoring notebook documents. \n",
    "\\item Kernels: Separate processes started by the notebook web application that runs users’ code in a given language and returns output back to the notebook web application. The kernel also handles things like computations for interactive widgets, tab completion and introspection. \n",
    "\\item Notebook documents: Self-contained documents that contain a representation of all content visible in the notebook web application, including inputs and outputs of the computations, narrative text, equations, images, and rich media representations of objects. Each notebook document has its own kernel. \n",
    "\\end{itemize}\n",
    "\n",
    "\n",
    "\\textbf{Notebook web application:} The notebook web application enables users to edit code in the browser, run code from the browser, see the results of computations with rich media representations, create and use interactive JavaScript widgets, author narrative text using the Markdown markup language, build hierarchical documents that are organized into sections with different levels of headings, and include mathematical equations using LaTeX syntax.\n",
    "\n",
    "\n",
    "\\textbf{Kernels:} Through Jupyter’s kernel and messaging architecture, the Notebook allows code to be run in a range of different programming languages. For each notebook document that a user opens, the web application starts a kernel that runs the code for that notebook. There are numerous kernels available. The kernels communicate with the notebook web application and web browser using \\textbf{JSON over ZeroMQ/WebSockets} message protocol. The kernels are what <span class=\"mark\">run</span> code.\n",
    "\n",
    "\n",
    "\\textbf{Notebook documents:} Notebook documents contain the inputs and outputs of an interactive session as well as narrative text that accompanies the code but is not meant for execution. Rich output generated by running code, including HTML, images, video, and plots, is embedded in the notebook, which makes it a complete and self-contained record of a computation. "
   ]
  },
  {
   "cell_type": "markdown",
   "metadata": {
    "run_control": {
     "marked": false
    }
   },
   "source": [
    "## Thoughts on Jupyter"
   ]
  },
  {
   "cell_type": "markdown",
   "metadata": {},
   "source": [
    "There are a lot of discussion boards discussing the process of using, and usefulness of, Jupyter. The opinions of Jupyter seem to vary widely between individual and professional area. Many in the sciences see Jupyter as a useful tool for communicating results (that are reproducible), quickly testing ideas, and one-offs. There seems to be somewhat of a consensus though, that Jupyter is not a development environment.\n",
    "\n",
    "> The main difference between Spyder and the IPython notebook is that the first is meant to develop medium to large programming projects (i.e. something that involves several modules calling one another), while the notebook is meant to write executable documents.  \n",
    "   -- Spyder Maintainer\n",
    "   \n",
    "\n",
    "These ideas may be contrary to what some see Juyter evolving too, and certainly vary by profession. from my view in Scientific Visualization, especially in my specialization (in situ visualization), Jupyter won't work for normal development. The shear number of dependencies that we have to deal with when working in an in situ environment, make the somewhat clunky Jupyter environemnt untenable. However, I do see value in Jupyter, I just feel that it needs to be framed in the context of team communication and collaboration, demonstrating and explaining results to stakehodlers, or interactive data analysis for publications, not as an IDE. Taking that view, Jupyter is a powerful system.\n",
    "\n",
    "My uses for Jupyter may be more limited than those in other areas, and my views may not hold well in areas where highly interactive code runs are commonplace. For me however, I see Jupyter being useful for several things: (1) an easy to access and easy to format document for showing progress reports and documenting interesting occurrences, (2) a reproducible place to house one-off code that has to be written for my or others projects, and (3) documenting important functions in programs, such as those that do analysis or manipulate data from a simulation. The notebooks will allow those functions to be stripped from larger programs and run interactively and sent to stakeholders (who are usually the ones that have the smarts in terms of how to deal with the complex physics in these simulations) for review and verification. "
   ]
  },
  {
   "cell_type": "markdown",
   "metadata": {},
   "source": [
    "## Developing in Jupyter"
   ]
  },
  {
   "cell_type": "markdown",
   "metadata": {},
   "source": [
    "When Jupyter is not approached with the idea that it is an IDE, ones expectations can be lowered a bit in terms of easy functionality for code development. However, they don't have to be lowered too far, as many different Jupyter extensions have been developed in recent years to make the environment that much easier to use. Below is one large package of Jupyter extensions, with installations instructions, and a demonstration of some of the more useful functions (for me). "
   ]
  },
  {
   "cell_type": "markdown",
   "metadata": {},
   "source": [
    "### Installing Jupyter nbextensions"
   ]
  },
  {
   "cell_type": "markdown",
   "metadata": {
    "ExecuteTime": {
     "end_time": "2016-10-15T15:22:00.189480",
     "start_time": "2016-10-15T15:22:00.178732"
    }
   },
   "source": [
    "The jupyter_notebook_extensions package contains a collection of extensions that add functionality to the Jupyter notebook. These extensions are mostly written in Javascript and will be loaded locally in your browser.\n",
    "\n",
    "Documentation relating to the nbextensions can be found at: http://jupyter-contrib-nbextensions.readthedocs.io/en/latest/index.html\n",
    "\n",
    "\\textbf{To install nbextensions do:}\n",
    "\\begin{itemize}\n",
    "\\item pip install https://github.com/ipython-contrib/jupyter_contrib_nbextensions/tarball/master\n",
    "\\end{itemize}\n",
    "\n",
    "You can also install from a cloned repo, which can be useful for development. You can clone the repo using\n",
    "\n",
    "\\begin{itemize}\n",
    "\\item git clone https://github.com/ipython-contrib/jupyter_contrib_nbextensions.git jupyter_contrib_nbextensions\n",
    "\n",
    "Then perform an editable pip install using\n",
    "\n",
    "\\item pip install -e jupyter_contrib_nbextensions\n",
    "\\end{itemize}\n",
    "\n",
    "\\textbf{Next:} Copy the nbextensions javascript and css files into the jupyter server’s search directory. A jupyter subcommand is provided which installs all of the nbextensions files:\n",
    "\n",
    "\\begin{itemize}\n",
    "\\item jupyter contrib nbextension install –user\n",
    "\\end{itemize}\n",
    "\n",
    "\\textbf{Installing Individual Extensions}\n",
    "Extensions can be installed via the command line, but are much easier to install and understand if done via the graphical configuration system. It is available using the following steps:\n",
    "\n",
    "\\begin{itemize}\n",
    "\\item pip install jupyter_nbextensions_configurator\n",
    "\\item jupyter nbextensions_configurator enable --user\n",
    "\\end{itemize}\n",
    "\n",
    "Once this is done, restart the Jupyter server, and the configuration panel will be available as shown below:\n"
   ]
  },
  {
   "cell_type": "markdown",
   "metadata": {},
   "source": [
    "<img  src=\"YALLR1DY9XU1J51FW58M7OB2OHKICRO7.png\"/>"
   ]
  },
  {
   "cell_type": "markdown",
   "metadata": {},
   "source": [
    "<img  src=\"TFUPVDWMWUPL2778NYFEVU6FS3TVO776.png\"/>"
   ]
  },
  {
   "cell_type": "markdown",
   "metadata": {
    "ExecuteTime": {
     "end_time": "2016-10-15T15:30:28.648039",
     "start_time": "2016-10-15T15:30:28.632884"
    },
    "code_folding": []
   },
   "source": [
    "### Some of My Favorite Extensions"
   ]
  },
  {
   "cell_type": "markdown",
   "metadata": {},
   "source": [
    "The following are some of the extensions that I find the most useful:\n",
    "\n",
    "\\textbf{(some) LaTex environments}\n",
    "\\begin{itemize}\n",
    "\\item This extension allows LaTex to be executed within markdown cells. As I prefer to do any  report writing in LaTex, this extension is brilliant in that I can copy and past many things from a paper into a notebook when required for documentation. Plus, it is what is allowing me to make these lists right now...\n",
    "\\end{itemize}\n",
    "\n",
    "\\textbf{Highlighter}\n",
    "\\begin{itemize}\n",
    "\\item The highlighter command is just useful for immediately drawing attention to a <span class=\"girk\">critical</span> point in a section. May not use it extensively, but any <span class=\"girk\">self respecting</span> markdown editor should have this. \n",
    "\\end{itemize}"
   ]
  },
  {
   "cell_type": "markdown",
   "metadata": {},
   "source": [
    "<img  src=\"X5ORS0PGBCTU25WVFPK2GW5O3WA06LJ4.png\"/>"
   ]
  },
  {
   "cell_type": "markdown",
   "metadata": {
    "ExecuteTime": {
     "end_time": "2016-10-15T15:59:01.243860",
     "start_time": "2016-10-15T15:59:01.229515"
    },
    "cell_style": "center"
   },
   "source": [
    "\\textbf{Auto Save Time}\n",
    "\\begin{itemize}\n",
    "\\item For those that like to be able to control all things in their worlds, the interval between auto saves of a document is a thing that must be modifiable. With this extension, Jupyter will now bow to you every will.\n",
    "\\end{itemize}"
   ]
  },
  {
   "cell_type": "markdown",
   "metadata": {
    "cell_style": "center"
   },
   "source": [
    "\n",
    "\n",
    "<img  src=\"XIUOSD4WTM7Q8C0RGQ4OLT3I77FBIJUQ.png\"/>\n"
   ]
  },
  {
   "cell_type": "markdown",
   "metadata": {},
   "source": [
    "\\textbf{Execute Time}\n",
    "\\begin{itemize}\n",
    "\\item While the execute time of a cell can be tracked with a cell magic, why take the time to bother with that, when you can just make it happen. With this extension timings for cells are done automatically.\n",
    "\\end{itemize}\n"
   ]
  },
  {
   "cell_type": "code",
   "execution_count": 1,
   "metadata": {
    "ExecuteTime": {
     "end_time": "2016-10-15T17:13:43.501705",
     "start_time": "2016-10-15T17:13:43.498404"
    },
    "collapsed": false
   },
   "outputs": [
    {
     "name": "stdout",
     "output_type": "stream",
     "text": [
      "Time me\n"
     ]
    }
   ],
   "source": [
    "print(\"Time me\")"
   ]
  },
  {
   "cell_type": "markdown",
   "metadata": {
    "cell_style": "center"
   },
   "source": [
    "\\textbf{Spell Checker}\n",
    "\\begin{itemize}\n",
    "\\item As a world trained speller, this extension was clearly not designed with me in mind, but has the potential for infinite utility for some.\n",
    "\\end{itemize}\n",
    "\n",
    "\\textbf{Chrome Clipboard}\n",
    "\\begin{itemize}\n",
    "\\item This extension says that it allows the notebook to have access to the Chrome clipboard through the use of the usual copy and paste shortcut commands. I have used it several times to place images into this notebook, so would say that it works great. Though, I never did try to copy and past images into a notebook before I enabled it, so it is possible that this functionality already existed. \n",
    "\\end{itemize}\n",
    "\n",
    "\\textbf{Spell Checker}\n",
    "\\begin{itemize}\n",
    "\\item As a world trained speller, this extension was clearly not designed with me in mind, but has the potential for infinite utility for some.\n",
    "\\end{itemize}"
   ]
  },
  {
   "cell_type": "markdown",
   "metadata": {
    "cell_style": "split"
   },
   "source": [
    "\\textbf{Split Cells}\n",
    "\\begin{itemize}\n",
    "\\item This is an interesting one that allows cells to be placed side by side on a page (of the same or different types). This is useful for many things including keeping images right by the text describing them, or having annotation side-by-side with code. \n",
    "\\end{itemize}"
   ]
  },
  {
   "cell_type": "code",
   "execution_count": 2,
   "metadata": {
    "ExecuteTime": {
     "end_time": "2016-10-15T17:13:43.728736",
     "start_time": "2016-10-15T17:13:43.599499"
    },
    "cell_style": "split",
    "collapsed": false
   },
   "outputs": [
    {
     "name": "stdout",
     "output_type": "stream",
     "text": [
      "And it looks something like this...\n"
     ]
    }
   ],
   "source": [
    "print(\"And it looks something like this...\")"
   ]
  },
  {
   "cell_type": "raw",
   "metadata": {},
   "source": []
  },
  {
   "cell_type": "markdown",
   "metadata": {
    "cell_style": "split"
   },
   "source": [
    "\\textbf{Code Line Numbering}\n",
    "\\begin{itemize}\n",
    "\\item Adds line numbers to code cells. Great for the number obsessed. \n",
    "\\end{itemize}"
   ]
  },
  {
   "cell_type": "code",
   "execution_count": null,
   "metadata": {
    "cell_style": "split",
    "collapsed": true
   },
   "outputs": [],
   "source": [
    "\n",
    "\n",
    "\n"
   ]
  },
  {
   "cell_type": "raw",
   "metadata": {},
   "source": []
  },
  {
   "cell_type": "markdown",
   "metadata": {
    "ExecuteTime": {
     "end_time": "2016-10-15T16:02:34.357025",
     "start_time": "2016-10-15T16:02:34.341570"
    },
    "cell_style": "split"
   },
   "source": [
    "\\textbf{Equation Auto Numbering}\n",
    "\\begin{itemize}\n",
    "\\item Because equations should after all be numbered, why make that difficult when it can be free.  \n",
    "\\end{itemize}"
   ]
  },
  {
   "cell_type": "markdown",
   "metadata": {
    "ExecuteTime": {
     "end_time": "2016-10-15T16:04:05.498151",
     "start_time": "2016-10-15T16:04:05.486980"
    },
    "cell_style": "split"
   },
   "source": [
    "\\begin{equation}\n",
    "E = F \\cdot s \n",
    "\\end{equation}"
   ]
  },
  {
   "cell_type": "raw",
   "metadata": {},
   "source": []
  },
  {
   "cell_type": "markdown",
   "metadata": {
    "cell_style": "split",
    "collapsed": true
   },
   "source": [
    "\\textbf{Collapsible Headings}\n",
    "\\begin{itemize}\n",
    "\\item Makes a long and drawn out document much easier to traverse when the sections that are not needed can be easily hidden. \n",
    "\\end{itemize}"
   ]
  },
  {
   "cell_type": "markdown",
   "metadata": {
    "cell_style": "split",
    "collapsed": true
   },
   "source": [
    "### This is another heading, with lots of stuff below"
   ]
  },
  {
   "cell_type": "markdown",
   "metadata": {
    "cell_style": "split",
    "collapsed": true
   },
   "source": [
    "Lots and lots of text"
   ]
  }
 ],
 "metadata": {
  "kernelspec": {
   "display_name": "Python 3",
   "language": "python",
   "name": "python3"
  },
  "language_info": {
   "codemirror_mode": {
    "name": "ipython",
    "version": 3
   },
   "file_extension": ".py",
   "mimetype": "text/x-python",
   "name": "python",
   "nbconvert_exporter": "python",
   "pygments_lexer": "ipython3",
   "version": "3.5.2"
  },
  "latex_envs": {
   "bibliofile": "biblio.bib",
   "cite_by": "apalike",
   "current_citInitial": 1,
   "eqLabelWithNumbers": true,
   "eqNumInitial": 0
  }
 },
 "nbformat": 4,
 "nbformat_minor": 1
}
